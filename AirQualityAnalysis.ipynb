{
 "cells": [
  {
   "cell_type": "code",
   "execution_count": 4,
   "metadata": {},
   "outputs": [],
   "source": [
    "import pandas as pd"
   ]
  },
  {
   "cell_type": "code",
   "execution_count": 5,
   "metadata": {},
   "outputs": [],
   "source": [
    "df=pd.read_csv('air-quality-data.csv')"
   ]
  },
  {
   "cell_type": "code",
   "execution_count": 42,
   "metadata": {},
   "outputs": [],
   "source": [
    "# Function to categorize air quality based on PM2.5 levels\n",
    "def air_quality_category(pm_value):\n",
    "    if (pm_value >= 0) & (pm_value <= 12.0):\n",
    "        return \"Good\"\n",
    "    elif (pm_value > 12.1) & (pm_value <= 35.4):\n",
    "        return \"Moderate\"\n",
    "    elif (pm_value > 35.5) & (pm_value <= 55.4):\n",
    "        return \"Unhealthy for Sensitive Groups\"\n",
    "    elif (pm_value > 55.5) & (pm_value <= 150.4):\n",
    "        return \"Unhealthy\"\n",
    "    elif (pm_value > 150.5) & (pm_value <= 250.4):\n",
    "        return \"Very Unhealthy\"\n",
    "    else:\n",
    "        return \"Hazardous\""
   ]
  },
  {
   "cell_type": "code",
   "execution_count": 6,
   "metadata": {},
   "outputs": [
    {
     "data": {
      "text/html": [
       "<div>\n",
       "<style scoped>\n",
       "    .dataframe tbody tr th:only-of-type {\n",
       "        vertical-align: middle;\n",
       "    }\n",
       "\n",
       "    .dataframe tbody tr th {\n",
       "        vertical-align: top;\n",
       "    }\n",
       "\n",
       "    .dataframe thead th {\n",
       "        text-align: right;\n",
       "    }\n",
       "</style>\n",
       "<table border=\"1\" class=\"dataframe\">\n",
       "  <thead>\n",
       "    <tr style=\"text-align: right;\">\n",
       "      <th></th>\n",
       "      <th>Timestamp</th>\n",
       "      <th>PM2.5</th>\n",
       "    </tr>\n",
       "  </thead>\n",
       "  <tbody>\n",
       "    <tr>\n",
       "      <th>0</th>\n",
       "      <td>01-01-2018 00:00</td>\n",
       "      <td>90.19</td>\n",
       "    </tr>\n",
       "    <tr>\n",
       "      <th>1</th>\n",
       "      <td>01-01-2018 01:00</td>\n",
       "      <td>86.98</td>\n",
       "    </tr>\n",
       "    <tr>\n",
       "      <th>2</th>\n",
       "      <td>01-01-2018 02:00</td>\n",
       "      <td>86.06</td>\n",
       "    </tr>\n",
       "    <tr>\n",
       "      <th>3</th>\n",
       "      <td>01-01-2018 03:00</td>\n",
       "      <td>94.04</td>\n",
       "    </tr>\n",
       "    <tr>\n",
       "      <th>4</th>\n",
       "      <td>01-01-2018 04:00</td>\n",
       "      <td>108.78</td>\n",
       "    </tr>\n",
       "    <tr>\n",
       "      <th>...</th>\n",
       "      <td>...</td>\n",
       "      <td>...</td>\n",
       "    </tr>\n",
       "    <tr>\n",
       "      <th>31856</th>\n",
       "      <td>31-12-2021 19:00</td>\n",
       "      <td>72.25</td>\n",
       "    </tr>\n",
       "    <tr>\n",
       "      <th>31857</th>\n",
       "      <td>31-12-2021 20:00</td>\n",
       "      <td>71.56</td>\n",
       "    </tr>\n",
       "    <tr>\n",
       "      <th>31858</th>\n",
       "      <td>31-12-2021 21:00</td>\n",
       "      <td>70.27</td>\n",
       "    </tr>\n",
       "    <tr>\n",
       "      <th>31859</th>\n",
       "      <td>31-12-2021 22:00</td>\n",
       "      <td>66.78</td>\n",
       "    </tr>\n",
       "    <tr>\n",
       "      <th>31860</th>\n",
       "      <td>31-12-2021 23:00</td>\n",
       "      <td>61.29</td>\n",
       "    </tr>\n",
       "  </tbody>\n",
       "</table>\n",
       "<p>31861 rows × 2 columns</p>\n",
       "</div>"
      ],
      "text/plain": [
       "              Timestamp   PM2.5\n",
       "0      01-01-2018 00:00   90.19\n",
       "1      01-01-2018 01:00   86.98\n",
       "2      01-01-2018 02:00   86.06\n",
       "3      01-01-2018 03:00   94.04\n",
       "4      01-01-2018 04:00  108.78\n",
       "...                 ...     ...\n",
       "31856  31-12-2021 19:00   72.25\n",
       "31857  31-12-2021 20:00   71.56\n",
       "31858  31-12-2021 21:00   70.27\n",
       "31859  31-12-2021 22:00   66.78\n",
       "31860  31-12-2021 23:00   61.29\n",
       "\n",
       "[31861 rows x 2 columns]"
      ]
     },
     "execution_count": 6,
     "metadata": {},
     "output_type": "execute_result"
    }
   ],
   "source": [
    "df\n"
   ]
  },
  {
   "cell_type": "code",
   "execution_count": 7,
   "metadata": {},
   "outputs": [
    {
     "name": "stdout",
     "output_type": "stream",
     "text": [
      "<class 'pandas.core.frame.DataFrame'>\n",
      "RangeIndex: 31861 entries, 0 to 31860\n",
      "Data columns (total 2 columns):\n",
      " #   Column     Non-Null Count  Dtype  \n",
      "---  ------     --------------  -----  \n",
      " 0   Timestamp  31861 non-null  object \n",
      " 1   PM2.5      31861 non-null  float64\n",
      "dtypes: float64(1), object(1)\n",
      "memory usage: 498.0+ KB\n"
     ]
    }
   ],
   "source": [
    "df.info()"
   ]
  },
  {
   "cell_type": "code",
   "execution_count": 8,
   "metadata": {},
   "outputs": [],
   "source": [
    "df['Timestamp'] = pd.to_datetime(df['Timestamp'], format='%d-%m-%Y %H:%M', errors='coerce')\n",
    "\n",
    " # To convert a column datatype to Timestamp format "
   ]
  },
  {
   "cell_type": "code",
   "execution_count": 9,
   "metadata": {},
   "outputs": [
    {
     "data": {
      "text/html": [
       "<div>\n",
       "<style scoped>\n",
       "    .dataframe tbody tr th:only-of-type {\n",
       "        vertical-align: middle;\n",
       "    }\n",
       "\n",
       "    .dataframe tbody tr th {\n",
       "        vertical-align: top;\n",
       "    }\n",
       "\n",
       "    .dataframe thead th {\n",
       "        text-align: right;\n",
       "    }\n",
       "</style>\n",
       "<table border=\"1\" class=\"dataframe\">\n",
       "  <thead>\n",
       "    <tr style=\"text-align: right;\">\n",
       "      <th></th>\n",
       "      <th>Timestamp</th>\n",
       "      <th>PM2.5</th>\n",
       "      <th>Year</th>\n",
       "    </tr>\n",
       "  </thead>\n",
       "  <tbody>\n",
       "    <tr>\n",
       "      <th>0</th>\n",
       "      <td>2018-01-01 00:00:00</td>\n",
       "      <td>90.19</td>\n",
       "      <td>2018</td>\n",
       "    </tr>\n",
       "    <tr>\n",
       "      <th>1</th>\n",
       "      <td>2018-01-01 01:00:00</td>\n",
       "      <td>86.98</td>\n",
       "      <td>2018</td>\n",
       "    </tr>\n",
       "    <tr>\n",
       "      <th>2</th>\n",
       "      <td>2018-01-01 02:00:00</td>\n",
       "      <td>86.06</td>\n",
       "      <td>2018</td>\n",
       "    </tr>\n",
       "    <tr>\n",
       "      <th>3</th>\n",
       "      <td>2018-01-01 03:00:00</td>\n",
       "      <td>94.04</td>\n",
       "      <td>2018</td>\n",
       "    </tr>\n",
       "    <tr>\n",
       "      <th>4</th>\n",
       "      <td>2018-01-01 04:00:00</td>\n",
       "      <td>108.78</td>\n",
       "      <td>2018</td>\n",
       "    </tr>\n",
       "    <tr>\n",
       "      <th>...</th>\n",
       "      <td>...</td>\n",
       "      <td>...</td>\n",
       "      <td>...</td>\n",
       "    </tr>\n",
       "    <tr>\n",
       "      <th>31856</th>\n",
       "      <td>2021-12-31 19:00:00</td>\n",
       "      <td>72.25</td>\n",
       "      <td>2021</td>\n",
       "    </tr>\n",
       "    <tr>\n",
       "      <th>31857</th>\n",
       "      <td>2021-12-31 20:00:00</td>\n",
       "      <td>71.56</td>\n",
       "      <td>2021</td>\n",
       "    </tr>\n",
       "    <tr>\n",
       "      <th>31858</th>\n",
       "      <td>2021-12-31 21:00:00</td>\n",
       "      <td>70.27</td>\n",
       "      <td>2021</td>\n",
       "    </tr>\n",
       "    <tr>\n",
       "      <th>31859</th>\n",
       "      <td>2021-12-31 22:00:00</td>\n",
       "      <td>66.78</td>\n",
       "      <td>2021</td>\n",
       "    </tr>\n",
       "    <tr>\n",
       "      <th>31860</th>\n",
       "      <td>2021-12-31 23:00:00</td>\n",
       "      <td>61.29</td>\n",
       "      <td>2021</td>\n",
       "    </tr>\n",
       "  </tbody>\n",
       "</table>\n",
       "<p>31861 rows × 3 columns</p>\n",
       "</div>"
      ],
      "text/plain": [
       "                Timestamp   PM2.5  Year\n",
       "0     2018-01-01 00:00:00   90.19  2018\n",
       "1     2018-01-01 01:00:00   86.98  2018\n",
       "2     2018-01-01 02:00:00   86.06  2018\n",
       "3     2018-01-01 03:00:00   94.04  2018\n",
       "4     2018-01-01 04:00:00  108.78  2018\n",
       "...                   ...     ...   ...\n",
       "31856 2021-12-31 19:00:00   72.25  2021\n",
       "31857 2021-12-31 20:00:00   71.56  2021\n",
       "31858 2021-12-31 21:00:00   70.27  2021\n",
       "31859 2021-12-31 22:00:00   66.78  2021\n",
       "31860 2021-12-31 23:00:00   61.29  2021\n",
       "\n",
       "[31861 rows x 3 columns]"
      ]
     },
     "execution_count": 9,
     "metadata": {},
     "output_type": "execute_result"
    }
   ],
   "source": [
    " #creates a new column Year that contains the year part of each date from the Timestamp column.\n",
    "df['Year']= df.Timestamp.dt.year #\n",
    "df"
   ]
  },
  {
   "cell_type": "markdown",
   "metadata": {},
   "source": [
    "## The Year wise average pollution with a line chart"
   ]
  },
  {
   "cell_type": "code",
   "execution_count": 10,
   "metadata": {},
   "outputs": [],
   "source": [
    "year_avg = df.groupby('Year')['PM2.5'].mean()"
   ]
  },
  {
   "cell_type": "code",
   "execution_count": 11,
   "metadata": {},
   "outputs": [
    {
     "data": {
      "text/plain": [
       "<Axes: xlabel='Year'>"
      ]
     },
     "execution_count": 11,
     "metadata": {},
     "output_type": "execute_result"
    },
    {
     "data": {
      "image/png": "[encoded data removed]",
      "text/plain": [
       "<Figure size 1500x500 with 1 Axes>"
      ]
     },
     "metadata": {},
     "output_type": "display_data"
    }
   ],
   "source": [
    "year_avg.plot(kind='line', figsize=(15,5))"
   ]
  },
  {
   "cell_type": "markdown",
   "metadata": {},
   "source": [
    "## Draw the Area plot showing the average pollution Month wise."
   ]
  },
  {
   "cell_type": "code",
   "execution_count": 12,
   "metadata": {},
   "outputs": [],
   "source": [
    " #creates a new column Month that contains the month part of each date from the Timestamp column.\n",
    "df['Month'] = df.Timestamp.dt.month\n"
   ]
  },
  {
   "cell_type": "code",
   "execution_count": 13,
   "metadata": {},
   "outputs": [],
   "source": [
    "month_avg = df.groupby('Month')['PM2.5'].mean()\n"
   ]
  },
  {
   "cell_type": "code",
   "execution_count": 14,
   "metadata": {},
   "outputs": [
    {
     "data": {
      "text/plain": [
       "<Axes: xlabel='Month'>"
      ]
     },
     "execution_count": 14,
     "metadata": {},
     "output_type": "execute_result"
    },
    {
     "data": {
      "image/png": "[encoded data removed]",
      "text/plain": [
       "<Figure size 1200x500 with 1 Axes>"
      ]
     },
     "metadata": {},
     "output_type": "display_data"
    }
   ],
   "source": [
    "month_avg.plot(kind='area', figsize=(12,5), color='orange')"
   ]
  },
  {
   "cell_type": "markdown",
   "metadata": {},
   "source": [
    "## Draw a Bar graph to show the Hour-wise average pollution."
   ]
  },
  {
   "cell_type": "code",
   "execution_count": 15,
   "metadata": {},
   "outputs": [],
   "source": [
    "df['Hour'] = df.Timestamp.dt.hour"
   ]
  },
  {
   "cell_type": "code",
   "execution_count": 16,
   "metadata": {},
   "outputs": [],
   "source": [
    "hour_avg = df.groupby('Hour')['PM2.5'].mean()"
   ]
  },
  {
   "cell_type": "code",
   "execution_count": 17,
   "metadata": {},
   "outputs": [
    {
     "data": {
      "image/png": "[encoded data removed]",
      "text/plain": [
       "<Figure size 1800x500 with 1 Axes>"
      ]
     },
     "metadata": {},
     "output_type": "display_data"
    }
   ],
   "source": [
    "hour_avg.plot(kind='bar', figsize=(18,5), color='purple');"
   ]
  },
  {
   "cell_type": "markdown",
   "metadata": {},
   "source": [
    "## In which month(s) was the air quality recorded as 'Very Unhealthy'?"
   ]
  },
  {
   "cell_type": "code",
   "execution_count": 21,
   "metadata": {},
   "outputs": [
    {
     "data": {
      "text/plain": [
       "Month\n",
       "7     7\n",
       "1     6\n",
       "11    6\n",
       "10    5\n",
       "8     3\n",
       "6     1\n",
       "Name: count, dtype: int64"
      ]
     },
     "execution_count": 21,
     "metadata": {},
     "output_type": "execute_result"
    }
   ],
   "source": [
    "x = df[(df['PM2.5']>=150.5) & (df['PM2.5'] <= 250.4)] #Condition\n",
    "x.value_counts('Month')"
   ]
  },
  {
   "cell_type": "markdown",
   "metadata": {},
   "source": [
    "The result shows the number of times PM2.5 levels between 150.5 and 250.4 occurred in each month.This helps analyze which months had more instances of poor air quality in the given range.\n",
    "\n",
    "July (7) had the highest occurrences (7 times).\n",
    "\n",
    "January (1) & November (11) had 6 occurrences each.\n",
    "\n",
    "October (10) had 5 occurrences.\n",
    "\n",
    "August (8) & June (6) had fewer cases (3 and 1, respectively)."
   ]
  },
  {
   "cell_type": "markdown",
   "metadata": {},
   "source": [
    "## In which month(s) was the air quality recorded as 'Good?"
   ]
  },
  {
   "cell_type": "code",
   "execution_count": 24,
   "metadata": {},
   "outputs": [
    {
     "data": {
      "text/plain": [
       "Month\n",
       "8    33\n",
       "9     8\n",
       "7     6\n",
       "6     5\n",
       "Name: count, dtype: int64"
      ]
     },
     "execution_count": 24,
     "metadata": {},
     "output_type": "execute_result"
    }
   ],
   "source": [
    "y = df[df['PM2.5']<=12.0] #Condition\n",
    "\n",
    "y.value_counts('Month')"
   ]
  },
  {
   "cell_type": "markdown",
   "metadata": {},
   "source": [
    "## In year 2018, how many times the AQI was recorded 'Moderate'."
   ]
  },
  {
   "cell_type": "code",
   "execution_count": 27,
   "metadata": {},
   "outputs": [
    {
     "data": {
      "text/plain": [
       "array([2018], dtype=int32)"
      ]
     },
     "execution_count": 27,
     "metadata": {},
     "output_type": "execute_result"
    }
   ],
   "source": [
    "z = df[(df['Year'] == 2018) & (df['PM2.5'] >= 12.1) & (df['PM2.5'] <= 35.4)]\n",
    "z.Year.unique()"
   ]
  },
  {
   "cell_type": "code",
   "execution_count": 28,
   "metadata": {},
   "outputs": [
    {
     "data": {
      "text/plain": [
       "1820     33.34\n",
       "2038     35.39\n",
       "2215     28.90\n",
       "2306     34.83\n",
       "2307     33.50\n",
       "         ...  \n",
       "9981     19.75\n",
       "9982     19.27\n",
       "9983     18.96\n",
       "10004    17.45\n",
       "10006    18.77\n",
       "Name: PM2.5, Length: 2239, dtype: float64"
      ]
     },
     "execution_count": 28,
     "metadata": {},
     "output_type": "execute_result"
    }
   ],
   "source": [
    "z['PM2.5']"
   ]
  },
  {
   "cell_type": "markdown",
   "metadata": {},
   "source": [
    "## How was weather in the month of January and July.\n"
   ]
  },
  {
   "cell_type": "code",
   "execution_count": 46,
   "metadata": {},
   "outputs": [
    {
     "name": "stdout",
     "output_type": "stream",
     "text": [
      "Average PM2.5 in January: 79.06 (Unhealthy)\n",
      "Average PM2.5 in July: 23.01 (Moderate)\n"
     ]
    }
   ],
   "source": [
    "# Calculate PM2.5 averages for specific Months\n",
    "jan_pm25 = df[df['Month'] == 1]['PM2.5'].mean()\n",
    "jul_pm25 = df[df['Month'] == 7]['PM2.5'].mean()\n",
    "\n",
    "\n",
    "\n",
    "# Results with air quality classification\n",
    "print(f\"Average PM2.5 in January: {round(jan_pm25, 2)} ({air_quality_category(jan_pm25)})\")\n",
    "print(f\"Average PM2.5 in July: {round(jul_pm25, 2)} ({air_quality_category(jul_pm25)})\")\n"
   ]
  }
 ],
 "metadata": {
  "kernelspec": {
   "display_name": "Python 3",
   "language": "python",
   "name": "python3"
  },
  "language_info": {
   "codemirror_mode": {
    "name": "ipython",
    "version": 3
   },
   "file_extension": ".py",
   "mimetype": "text/x-python",
   "name": "python",
   "nbconvert_exporter": "python",
   "pygments_lexer": "ipython3",
   "version": "3.11.3"
  }
 },
 "nbformat": 4,
 "nbformat_minor": 2
}
